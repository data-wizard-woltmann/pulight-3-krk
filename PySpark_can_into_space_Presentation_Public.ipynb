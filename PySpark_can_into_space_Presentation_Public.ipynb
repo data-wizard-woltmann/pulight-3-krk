{
 "cells": [
  {
   "cell_type": "raw",
   "metadata": {
    "slideshow": {
     "slide_type": "slide"
    }
   },
   "source": [
    "Title: Pyspark can into space! Czyli o analizie kosmicznych danych słów kilka.\n",
    "Date created: 2018-12-19\n",
    "Last modified: 2018-12-19\n",
    "Author(s): Adrianna Woltmann\n",
    "\n",
    "tl;dr: First steps with PySpark via analisis of Wikipedia scpraped articles (2014 and 2018 versions). Presented code lead to comparison of word occurance in current and archival versions of articles on New Horizons, Pluto, Planets and Dwarf planets.\n",
    "\n",
    "Kudos to:\n",
    "Marcin Mycek - scraping data.\n",
    "Monika Puchalska - source of knowledge on Spark/PySpark."
   ]
  },
  {
   "cell_type": "markdown",
   "metadata": {
    "slideshow": {
     "slide_type": "slide"
    }
   },
   "source": [
    "<img src=\"https://upload.wikimedia.org/wikipedia/commons/b/b6/New_Horizons_%28from_Launch_Press_Kit%29.jpg\" style=\"text-align: center;\"/>"
   ]
  },
  {
   "cell_type": "code",
   "execution_count": 1,
   "metadata": {
    "slideshow": {
     "slide_type": "skip"
    }
   },
   "outputs": [
    {
     "data": {
      "text/html": [
       "<style>.container { width:95% !important; }</style>"
      ],
      "text/plain": [
       "<IPython.core.display.HTML object>"
      ]
     },
     "metadata": {},
     "output_type": "display_data"
    }
   ],
   "source": [
    "from IPython.core.display import display, HTML \n",
    "display(HTML(\"<style>.container { width:95% !important; }</style>\"))\n",
    "from IPython.display import HTML"
   ]
  },
  {
   "cell_type": "markdown",
   "metadata": {
    "slideshow": {
     "slide_type": "slide"
    }
   },
   "source": [
    "<img src=\"https://upload.wikimedia.org/wikipedia/commons/2/26/Orbits_of_2014_MU69%2C_Pluto%2C_Neptune%2C_and_New_Horizons.png\" style=\"text-align: center;\"/>"
   ]
  },
  {
   "cell_type": "markdown",
   "metadata": {
    "slideshow": {
     "slide_type": "notes"
    }
   },
   "source": [
    "Sonda New Horizons została wyniesiona w przestrzeń kosmiczną z przylądka Canaveral na Florydzie, przy użyciu rakiety nośnej Atlas V 551, 19 stycznia 2006 roku.\n",
    "Pierwsza połowa kwietnia 2015 – sonda wykonała zdjęcia, na których są widoczne struktury powierzchni Plutona.   "
   ]
  },
  {
   "cell_type": "markdown",
   "metadata": {
    "slideshow": {
     "slide_type": "slide"
    }
   },
   "source": [
    "<img src=\"https://cdn.shopify.com/s/files/1/2372/6989/products/image_plutoselfie_black_51_600x.png?v=1510578158\" style=\"text-align: center;\"/>"
   ]
  },
  {
   "cell_type": "markdown",
   "metadata": {
    "slideshow": {
     "slide_type": "notes"
    }
   },
   "source": [
    "Tak duże wyadrzenia (nie codziennie wysyłamy sondę która ma dotrzeć na granice naszego układu słonecznego) jakim jest wysłanie sondy i otrzymanie tak wielu informacji o obszarze słabo zbadanym nie mogło przejść bez echa. Od tamtego czasu sypią jak z rękawa się nowe informacje na temat Plutona. Wydaje się, że nawet bez zagłębiania się w artykuły naukowe możemy zaobserwować zwiększą ilość informacji na ten temat.  \n",
    "\n",
    "Ale to są tylko nasze przypuszczenia. Co możemy zrobić żeby to sprawdzić?\n",
    "Przeprowadźmy się w czasie tej prezentacji przez taką mini analizę.\n",
    "Po pierwsze, wybierzmy źródło danych -- gdzie można znaleźć stale updatującą się bazę wiedzy i nie jest to Encyklopedia Britanica (jedyne 32 tomy)? Wikipedia! Weźmy aktualne wersje atykułów (2018) oraz wersje z 2014 roku kiedy to sonda dokonywała pomiarów w okolicy Plutona."
   ]
  },
  {
   "cell_type": "markdown",
   "metadata": {
    "slideshow": {
     "slide_type": "slide"
    }
   },
   "source": [
    "## Co możemy sprawdzić?\n",
    "Zmianę częstości wystąpień różnych słów (np. Pluton, planet, surface) w artykułach z Wikipedii."
   ]
  },
  {
   "cell_type": "markdown",
   "metadata": {
    "slideshow": {
     "slide_type": "slide"
    }
   },
   "source": [
    "## Agenda\n",
    "1. Dlaczego Spark i PySpark?\n",
    "2. Przygotowanie do analizy danych z jednej strony.\n",
    "3. Rozszerzenie analizy na wiele artykułów.\n",
    "5. Przygotowanie zestawów danych do wizualizacji.\n",
    "4. Wizualizacje w Seabornie."
   ]
  },
  {
   "cell_type": "markdown",
   "metadata": {
    "slideshow": {
     "slide_type": "slide"
    }
   },
   "source": [
    "# 1. Dlaczego Spark i PySpark?\n",
    "\n",
    "<img src=\"https://i.imgflip.com/2p94md.jpg\" title=\"made at imgflip.com\" style=\"text-align: center;\"/>"
   ]
  },
  {
   "cell_type": "markdown",
   "metadata": {
    "slideshow": {
     "slide_type": "slide"
    }
   },
   "source": [
    "# Dlaczego Spark?\n",
    "\n",
    "Mamy dane, które nie mieszczą sie w pamięci RAM pojedynczej maszyny.\n",
    "Co zrobić jeśli mamy więcej danych?\n",
    "  \n",
    "<img src=\"https://spark.apache.org/docs/latest/img/cluster-overview.png\" style=\"text-align: center;\"/>"
   ]
  },
  {
   "cell_type": "markdown",
   "metadata": {
    "slideshow": {
     "slide_type": "slide"
    }
   },
   "source": [
    "## Spark i jego właściwości\n",
    "\n",
    "Jest to open sourcowy projekt Apache, po raz pierwszy opublikowany w 2013 roku.  \n",
    "Nie jest to język programowania, a framework do pracy z dużymi zbiorami danych w różnych językach (Java, Scala, Python, R).   \n",
    "  \n",
    "Spark:\n",
    "- przechowuje wdane w pamięci podczas obliczeń, a nie zapisuje i ponownie wczytuje, dzięki czemu zyskuje na szybkości,\n",
    "- jest również leniwy...  Nie wykonuje, żadnych operacji na danych, tak długo jak tego nie musi. Pozwala to optymalizować kolejność obliczeń,\n",
    "- przetwarza dane w systemie rozproszonym.  \n",
    "\n",
    "Python:\n",
    "- jeśli przychodzisz \"z analityki\", to prawdopodobnie umiesz Pythona oraz SQL - niski próg wejścia,\n",
    "- można używać funkcji PySparkowych, ale również Pythonowych,\n",
    "- posiada dobrze rozwiniętą bibliotekę do machine learningu (MLlib). "
   ]
  },
  {
   "cell_type": "markdown",
   "metadata": {
    "slideshow": {
     "slide_type": "slide"
    }
   },
   "source": [
    "# 2. Przygotowanie do analizy danych z jednego artykułu."
   ]
  },
  {
   "cell_type": "markdown",
   "metadata": {
    "slideshow": {
     "slide_type": "slide"
    }
   },
   "source": [
    "<img src=\"https://monosnap.com/image/vMCqu6rEL925Jsnw2T0OZYoY2RvmRN.png\" style=\"float:center;\"/>"
   ]
  },
  {
   "cell_type": "markdown",
   "metadata": {
    "slideshow": {
     "slide_type": "slide"
    }
   },
   "source": [
    "## Przygotowanie środowiska do pracy"
   ]
  },
  {
   "cell_type": "markdown",
   "metadata": {
    "slideshow": {
     "slide_type": "notes"
    }
   },
   "source": [
    "Jeśli nie masz, zainstaluj:  \n",
    "    1. Java 8\n",
    "https://www.oracle.com/technetwork/java/javase/downloads/jdk8-downloads-2133151.html  \n",
    "    \n",
    "    2. Anaconda  \n",
    "https://www.anaconda.com/download/  \n",
    "    \n",
    "    3. PySpark z Anacondy  \n",
    "https://anaconda.org/conda-forge/pyspark\n",
    "\n",
    "Niech moc będzie z Tobą, a StackOverflow będzie Twoim przewodnikiem."
   ]
  },
  {
   "cell_type": "code",
   "execution_count": 3,
   "metadata": {
    "collapsed": true,
    "slideshow": {
     "slide_type": "fragment"
    }
   },
   "outputs": [],
   "source": [
    "from pyspark.sql import SparkSession\n",
    "from pyspark.sql import SQLContext\n",
    "\n",
    "spark = SparkSession.builder.getOrCreate()\n",
    "sqlContext = SQLContext(spark)"
   ]
  },
  {
   "cell_type": "markdown",
   "metadata": {
    "slideshow": {
     "slide_type": "slide"
    }
   },
   "source": [
    "### Pierwszy krok\n",
    "Załadujmy dane!  \n",
    "\n",
    "Używając metody `.textFile(file_path)` importujemy dane z pliku tekstowego do formatu RDD."
   ]
  },
  {
   "cell_type": "code",
   "execution_count": 16,
   "metadata": {
    "slideshow": {
     "slide_type": "fragment"
    }
   },
   "outputs": [],
   "source": [
    "new_horizons = spark.sparkContext.textFile('./text_files/New_Horizons.txt')"
   ]
  },
  {
   "cell_type": "markdown",
   "metadata": {
    "slideshow": {
     "slide_type": "slide"
    }
   },
   "source": [
    "### RDD\n",
    "\n",
    "Rdzeniem Sparka jest RDD (Resilient Distributed Dataset):\n",
    "- Resilient - operacje na RDD nie zmieniają samego obiektu. RDD zawiera informacje o operacjach, które należy przeprowadzić, aby uzyskać końcową postać zbioru danych.\n",
    "- Distributed - rozproszony system danych.\n",
    "- Datset - czyli reprezentuje dane."
   ]
  },
  {
   "cell_type": "markdown",
   "metadata": {
    "slideshow": {
     "slide_type": "slide"
    }
   },
   "source": [
    "### Eksploracja danych\n",
    "\n",
    "Sprawdźmy co znajduje się w pliku."
   ]
  },
  {
   "cell_type": "code",
   "execution_count": 90,
   "metadata": {
    "slideshow": {
     "slide_type": "fragment"
    }
   },
   "outputs": [
    {
     "data": {
      "text/plain": [
       "[\"New Horizons is an interplanetary space probe that was launched as a part of NASA's New Frontiers program.[3] Engineered by the Johns Hopkins University Applied Physics Laboratory (APL) and the Southwest Research Institute (SwRI), with a team led by S. Alan Stern,[4] the spacecraft was launched in 2006 with the primary mission to perform a flyby study of the Pluto system in 2015, and a secondary mission to fly by and study one or more other Kuiper belt objects (KBOs) in the decade to follow.[5][6][7][8][9] It is the fifth artificial object to achieve the escape velocity needed to leave the Solar System.\",\n",
       " '',\n",
       " \"On January 19, 2006, New Horizons was launched from Cape Canaveral Air Force Station by an Atlas V rocket directly into an Earth-and-solar escape trajectory with a speed of about 16.26 kilometers per second (10.10\\xa0mi/s; 58,500\\xa0km/h; 36,400\\xa0mph). At launch, it was the fastest probe ever launched from Earth[10], but was beaten[11] by the Parker Solar Probe on 12 August 2018.[12] After a brief encounter with asteroid 132524 APL, New Horizons proceeded to Jupiter, making its closest approach on February 28, 2007, at a distance of 2.3\\xa0million kilometers (1.4\\xa0million miles). The Jupiter flyby provided a gravity assist that increased New Horizons' speed; the flyby also enabled a general test of New Horizons' scientific capabilities, returning data about the planet's atmosphere, moons, and magnetosphere.\"]"
      ]
     },
     "execution_count": 90,
     "metadata": {},
     "output_type": "execute_result"
    }
   ],
   "source": [
    "new_horizons.take(3)"
   ]
  },
  {
   "cell_type": "markdown",
   "metadata": {
    "slideshow": {
     "slide_type": "slide"
    }
   },
   "source": [
    "# Clean up!"
   ]
  },
  {
   "cell_type": "markdown",
   "metadata": {
    "slideshow": {
     "slide_type": "fragment"
    }
   },
   "source": [
    "W takiej formie nie przetworzymy danych. Trzeba je wyczyścić.  "
   ]
  },
  {
   "cell_type": "markdown",
   "metadata": {
    "slideshow": {
     "slide_type": "fragment"
    }
   },
   "source": [
    "<img src=\"http://images.rapgenius.com/db88417a1cf0f911abb3db494a91efd3.400x225x40.gif\" style=\"text-align: center;\"/>"
   ]
  },
  {
   "cell_type": "markdown",
   "metadata": {
    "slideshow": {
     "slide_type": "slide"
    }
   },
   "source": [
    "<img src=\"https://monosnap.com/image/3RwzShX6lUv6X4r4x5oplt8F8b02Ap.png\" style=\"text-align: center;\"/>"
   ]
  },
  {
   "cell_type": "markdown",
   "metadata": {
    "slideshow": {
     "slide_type": "fragment"
    }
   },
   "source": [
    "<img src=\"https://monosnap.com/image/FW21Ke1Csc0WmwAS0xpjx96WYqS97O.png\" style=\"text-align: center;width:300px\"/>"
   ]
  },
  {
   "cell_type": "markdown",
   "metadata": {
    "slideshow": {
     "slide_type": "slide"
    }
   },
   "source": [
    "- zmieniamy wszystkie wielkie litery na małe  \n",
    "`.lower()`"
   ]
  },
  {
   "cell_type": "markdown",
   "metadata": {
    "slideshow": {
     "slide_type": "notes"
    }
   },
   "source": [
    "**map** :It returns a new RDD by applying a function to each element of the RDD.   Function in map can return only one item.\n",
    "\n",
    "**flatMap**: Similar to map, it returns a new RDD by applying  a function to each element of the RDD, but output is flattened.\n",
    "Also, function in flatMap can return a list of elements (0 or more).  \n",
    "\n",
    "MORE:  \n",
    "https://stackoverflow.com/questions/22350722/what-is-the-difference-between-map-and-flatmap-and-a-good-use-case-for-each"
   ]
  },
  {
   "cell_type": "code",
   "execution_count": 21,
   "metadata": {
    "slideshow": {
     "slide_type": "fragment"
    }
   },
   "outputs": [
    {
     "data": {
      "text/plain": [
       "[\"new horizons is an interplanetary space probe that was launched as a part of nasa's new frontiers program.[3] engineered by the johns hopkins university applied physics laboratory (apl) and the southwest research institute (swri), with a team led by s. alan stern,[4] the spacecraft was launched in 2006 with the primary mission to perform a flyby study of the pluto system in 2015, and a secondary mission to fly by and study one or more other kuiper belt objects (kbos) in the decade to follow.[5][6][7][8][9] it is the fifth artificial object to achieve the escape velocity needed to leave the solar system.\"]"
      ]
     },
     "execution_count": 21,
     "metadata": {},
     "output_type": "execute_result"
    }
   ],
   "source": [
    "new_horizons_2 = new_horizons.map(lambda row: row.lower())\n",
    "new_horizons_2.take(1)"
   ]
  },
  {
   "cell_type": "markdown",
   "metadata": {
    "slideshow": {
     "slide_type": "slide"
    }
   },
   "source": [
    "- usuwamy wszystkie znaki, które nie są małymi literami alfabetu łacińskiego za pomocą wyrażenia regularnego  \n",
    "`re.sub('[^a-z ]', \" \", str(RDD))`"
   ]
  },
  {
   "cell_type": "code",
   "execution_count": 22,
   "metadata": {
    "slideshow": {
     "slide_type": "fragment"
    }
   },
   "outputs": [
    {
     "data": {
      "text/plain": [
       "['new horizons is an interplanetary space probe that was launched as a part of nasas new frontiers program engineered by the johns hopkins university applied physics laboratory apl and the southwest research institute swri with a team led by s alan stern the spacecraft was launched in  with the primary mission to perform a flyby study of the pluto system in  and a secondary mission to fly by and study one or more other kuiper belt objects kbos in the decade to follow it is the fifth artificial object to achieve the escape velocity needed to leave the solar system']"
      ]
     },
     "execution_count": 22,
     "metadata": {},
     "output_type": "execute_result"
    }
   ],
   "source": [
    "import re\n",
    "new_horizons_3 = new_horizons_2.map(lambda row:(re.sub('[^a-z ]', \"\", str(row))))\n",
    "new_horizons_3.take(1)"
   ]
  },
  {
   "cell_type": "markdown",
   "metadata": {
    "slideshow": {
     "slide_type": "slide"
    }
   },
   "source": [
    "- i dzielimy  \n",
    "`.split()`"
   ]
  },
  {
   "cell_type": "code",
   "execution_count": 24,
   "metadata": {
    "slideshow": {
     "slide_type": "fragment"
    }
   },
   "outputs": [
    {
     "data": {
      "text/plain": [
       "['new', 'horizons', 'is', 'an', 'interplanetary']"
      ]
     },
     "execution_count": 24,
     "metadata": {},
     "output_type": "execute_result"
    }
   ],
   "source": [
    "new_horizons_3.flatMap(lambda row: row.split()).take(5)"
   ]
  },
  {
   "cell_type": "markdown",
   "metadata": {
    "slideshow": {
     "slide_type": "slide"
    }
   },
   "source": [
    "## Ale może funkcja?"
   ]
  },
  {
   "cell_type": "code",
   "execution_count": 25,
   "metadata": {
    "slideshow": {
     "slide_type": "fragment"
    }
   },
   "outputs": [],
   "source": [
    "def format_text_rdd(input_txt):\n",
    "    first_formatting = input_txt.lower()\n",
    "    second_formatting = re.sub('[^a-z ]', \" \", str(first_formatting))\n",
    "    output = second_formatting.split()\n",
    "    return output"
   ]
  },
  {
   "cell_type": "code",
   "execution_count": 27,
   "metadata": {
    "slideshow": {
     "slide_type": "fragment"
    }
   },
   "outputs": [],
   "source": [
    "completely_new_horizons = new_horizons.flatMap(format_text_rdd)"
   ]
  },
  {
   "cell_type": "code",
   "execution_count": 28,
   "metadata": {
    "slideshow": {
     "slide_type": "fragment"
    }
   },
   "outputs": [
    {
     "data": {
      "text/plain": [
       "['new',\n",
       " 'horizons',\n",
       " 'is',\n",
       " 'an',\n",
       " 'interplanetary',\n",
       " 'space',\n",
       " 'probe',\n",
       " 'that',\n",
       " 'was',\n",
       " 'launched']"
      ]
     },
     "execution_count": 28,
     "metadata": {},
     "output_type": "execute_result"
    }
   ],
   "source": [
    "completely_new_horizons.take(10)"
   ]
  },
  {
   "cell_type": "code",
   "execution_count": 30,
   "metadata": {
    "slideshow": {
     "slide_type": "slide"
    }
   },
   "outputs": [],
   "source": [
    "from pyspark.sql.types import *\n",
    "horizon_df = spark.createDataFrame(completely_new_horizons, StringType())"
   ]
  },
  {
   "cell_type": "code",
   "execution_count": 31,
   "metadata": {
    "slideshow": {
     "slide_type": "fragment"
    }
   },
   "outputs": [
    {
     "name": "stdout",
     "output_type": "stream",
     "text": [
      "+--------------+\n",
      "|         value|\n",
      "+--------------+\n",
      "|           new|\n",
      "|      horizons|\n",
      "|            is|\n",
      "|            an|\n",
      "|interplanetary|\n",
      "|         space|\n",
      "|         probe|\n",
      "|          that|\n",
      "|           was|\n",
      "|      launched|\n",
      "+--------------+\n",
      "only showing top 10 rows\n",
      "\n"
     ]
    }
   ],
   "source": [
    "horizon_df.show(10)"
   ]
  },
  {
   "cell_type": "markdown",
   "metadata": {
    "slideshow": {
     "slide_type": "slide"
    }
   },
   "source": [
    "## DataFrame\n",
    "Wrazm z przejściem Sparka do wersji 2.0 RDD zostały zastąpione przez DataFrame.\n",
    "DataFrame:\n",
    "- jest abstrakcją nałożoną na RDD,\n",
    "- przechowuje dane w wierszach i kolumach, co jest zdefiniowane w schemie,\n",
    "- każda kolumna przechowuje zmienną, a każdy wiersz przchowuje wartość zmiennej.\n"
   ]
  },
  {
   "cell_type": "code",
   "execution_count": 35,
   "metadata": {
    "slideshow": {
     "slide_type": "slide"
    }
   },
   "outputs": [],
   "source": [
    "horizon = horizon_df.withColumnRenamed('value', 'word')"
   ]
  },
  {
   "cell_type": "code",
   "execution_count": 36,
   "metadata": {
    "slideshow": {
     "slide_type": "fragment"
    }
   },
   "outputs": [
    {
     "name": "stdout",
     "output_type": "stream",
     "text": [
      "+-----+-----+\n",
      "| word|count|\n",
      "+-----+-----+\n",
      "|  the|  717|\n",
      "|   of|  309|\n",
      "|  and|  245|\n",
      "|   to|  233|\n",
      "|    a|  191|\n",
      "|   in|  140|\n",
      "|  new|  113|\n",
      "|  was|  112|\n",
      "|pluto|  108|\n",
      "|   on|  107|\n",
      "+-----+-----+\n",
      "only showing top 10 rows\n",
      "\n"
     ]
    }
   ],
   "source": [
    "horizon.groupBy('word')\\\n",
    "       .count()\\\n",
    "       .orderBy('count', \n",
    "                ascending=False)\\\n",
    "       .show(10)"
   ]
  },
  {
   "cell_type": "code",
   "execution_count": 37,
   "metadata": {
    "slideshow": {
     "slide_type": "slide"
    }
   },
   "outputs": [],
   "source": [
    "stopwords = ['s', 'edit', 'the', 'a', 'an', 'and', 'or', 'for', 'to', 'too', 'also', 'in', 'his', 'do', 'will', 'it', 'they', 'from', 'been', 'mi', 'km', 'can', 'be', 'being', 'does', 'cannot', 'not', 'on', 'at', 'any', 'when', 'have', 'had', 'has', 'is', 'are', 'only', 'some', 'because', 'then', 'was', 'were', 'by', 'of', 'that', 'which', 'when', 'while', 'than', 'as', 'with', 'other', 'but', 'over', 'into', 'up', 'all', 'begin', 'began', 'before', 'after', 'back', 'through', 'now', 'never', 'none', 'would', 'this', 'those', 'these', 'them', 'their', 'about', 'there', 'within', 'its']"
   ]
  },
  {
   "cell_type": "code",
   "execution_count": 38,
   "metadata": {
    "slideshow": {
     "slide_type": "fragment"
    }
   },
   "outputs": [],
   "source": [
    "import pyspark.sql.functions as F\n",
    "new_horizon = horizon.where(~F.col('word').isin(stopwords))"
   ]
  },
  {
   "cell_type": "code",
   "execution_count": 96,
   "metadata": {
    "slideshow": {
     "slide_type": "fragment"
    }
   },
   "outputs": [
    {
     "name": "stdout",
     "output_type": "stream",
     "text": [
      "+----------+-----+\n",
      "|      word|count|\n",
      "+----------+-----+\n",
      "|       new|  113|\n",
      "|     pluto|  108|\n",
      "|  horizons|  101|\n",
      "|spacecraft|   88|\n",
      "|   mission|   49|\n",
      "|      data|   36|\n",
      "|       two|   35|\n",
      "|    system|   34|\n",
      "+----------+-----+\n",
      "only showing top 8 rows\n",
      "\n"
     ]
    }
   ],
   "source": [
    "new_horizon.groupBy('word')\\\n",
    "           .count()\\\n",
    "           .orderBy('count', \n",
    "                    ascending=False)\\\n",
    "           .show(8)"
   ]
  },
  {
   "cell_type": "code",
   "execution_count": 40,
   "metadata": {
    "slideshow": {
     "slide_type": "skip"
    }
   },
   "outputs": [
    {
     "data": {
      "text/plain": [
       "5656"
      ]
     },
     "execution_count": 40,
     "metadata": {},
     "output_type": "execute_result"
    }
   ],
   "source": [
    "new_horizon.count()"
   ]
  },
  {
   "cell_type": "code",
   "execution_count": 41,
   "metadata": {
    "slideshow": {
     "slide_type": "skip"
    }
   },
   "outputs": [],
   "source": [
    "pluto = spark.sparkContext.textFile('./text_files/Pluto.txt')\n",
    "pluto_archive = spark.sparkContext.textFile('./text_files/Pluto_archive.txt')\n",
    "pluto2 = pluto.flatMap(format_text_rdd)\n",
    "pluto_archive_2 = pluto_archive.flatMap(format_text_rdd)\n",
    "pluto_df = spark.createDataFrame(pluto2, StringType())\n",
    "pluto_archive_df = spark.createDataFrame(pluto_archive_2, StringType())\n",
    "pluto_count = pluto_df.where(~F.col('value').isin(stopwords))\n",
    "pluto_archive_count = pluto_archive_df.where(~F.col('value').isin(stopwords))"
   ]
  },
  {
   "cell_type": "markdown",
   "metadata": {
    "slideshow": {
     "slide_type": "slide"
    }
   },
   "source": [
    "# To jak wygląda liczba słów dla artykułu o Plutonie?"
   ]
  },
  {
   "cell_type": "code",
   "execution_count": 42,
   "metadata": {
    "slideshow": {
     "slide_type": "fragment"
    }
   },
   "outputs": [
    {
     "data": {
      "text/plain": [
       "3646"
      ]
     },
     "execution_count": 42,
     "metadata": {},
     "output_type": "execute_result"
    }
   ],
   "source": [
    "pluto_count.count()"
   ]
  },
  {
   "cell_type": "code",
   "execution_count": 43,
   "metadata": {
    "slideshow": {
     "slide_type": "fragment"
    }
   },
   "outputs": [
    {
     "data": {
      "text/plain": [
       "3942"
      ]
     },
     "execution_count": 43,
     "metadata": {},
     "output_type": "execute_result"
    }
   ],
   "source": [
    "pluto_archive_count.count()"
   ]
  },
  {
   "cell_type": "markdown",
   "metadata": {
    "slideshow": {
     "slide_type": "fragment"
    }
   },
   "source": [
    "<img src=\"https://media1.tenor.com/images/8474b0f567704b752354d6e5a589784b/tenor.gif\" style=\"float: center;\"/>"
   ]
  },
  {
   "cell_type": "markdown",
   "metadata": {
    "slideshow": {
     "slide_type": "slide"
    }
   },
   "source": [
    "# Rozszerzenie przygotowania danych na wiele artykułów."
   ]
  },
  {
   "cell_type": "markdown",
   "metadata": {
    "slideshow": {
     "slide_type": "fragment"
    }
   },
   "source": [
    "<img src=\"https://monosnap.com/image/SxkmbubOSzZ4JkItjNi2ITXtuiuJDw.png\" style=\"text-align: center;\"/>"
   ]
  },
  {
   "cell_type": "markdown",
   "metadata": {
    "slideshow": {
     "slide_type": "slide"
    }
   },
   "source": [
    "<img src=\"http://i.imgur.com/7limn.gif\" aligh=middle/>"
   ]
  },
  {
   "cell_type": "code",
   "execution_count": 47,
   "metadata": {
    "slideshow": {
     "slide_type": "slide"
    }
   },
   "outputs": [],
   "source": [
    "files_list = ! ls './text_files/'"
   ]
  },
  {
   "cell_type": "markdown",
   "metadata": {
    "slideshow": {
     "slide_type": "fragment"
    }
   },
   "source": [
    "<img src=\"https://i.gifer.com/72nt.gif\" align=middle/>"
   ]
  },
  {
   "cell_type": "code",
   "execution_count": 48,
   "metadata": {
    "slideshow": {
     "slide_type": "fragment"
    }
   },
   "outputs": [
    {
     "data": {
      "text/plain": [
       "['Dwarf_planet.txt',\n",
       " 'Dwarf_planet_archive.txt',\n",
       " 'New_Horizons.txt',\n",
       " 'New_Horizons_archive.txt',\n",
       " 'Planet.txt',\n",
       " 'Planet_archive.txt',\n",
       " 'Pluto.txt',\n",
       " 'Pluto_archive.txt']"
      ]
     },
     "execution_count": 48,
     "metadata": {},
     "output_type": "execute_result"
    }
   ],
   "source": [
    "files_list"
   ]
  },
  {
   "cell_type": "markdown",
   "metadata": {
    "slideshow": {
     "slide_type": "notes"
    }
   },
   "source": [
    "https://stackoverflow.com/questions/11968976/list-files-only-in-the-current-directory"
   ]
  },
  {
   "cell_type": "code",
   "execution_count": null,
   "metadata": {
    "slideshow": {
     "slide_type": "slide"
    }
   },
   "outputs": [],
   "source": [
    "for file in files_list:\n",
    "    text_rdd = spark.sparkContext.textFile('./text_files/'+file)"
   ]
  },
  {
   "cell_type": "code",
   "execution_count": null,
   "metadata": {
    "slideshow": {
     "slide_type": "subslide"
    }
   },
   "outputs": [],
   "source": [
    "for file in files_list:\n",
    "    text_rdd = spark.sparkContext.textFile('./text_files/'+file)\n",
    "    formated_text_rdd = text_rdd.flatMap(format_text_rdd)"
   ]
  },
  {
   "cell_type": "code",
   "execution_count": null,
   "metadata": {
    "slideshow": {
     "slide_type": "subslide"
    }
   },
   "outputs": [],
   "source": [
    "for file in files_list:\n",
    "    text_rdd = spark.sparkContext.textFile('./text_files/'+file)\n",
    "    formated_text_rdd = text_rdd.flatMap(format_text_rdd)\n",
    "    text_df = spark.createDataFrame(formated_text_rdd, StringType())"
   ]
  },
  {
   "cell_type": "code",
   "execution_count": null,
   "metadata": {
    "slideshow": {
     "slide_type": "subslide"
    }
   },
   "outputs": [],
   "source": [
    "for file in files_list:\n",
    "    text_rdd = spark.sparkContext.textFile('./text_files/'+file)\n",
    "    formated_text_rdd = text_rdd.flatMap(format_text_rdd)\n",
    "    text_df = spark.createDataFrame(formated_text_rdd, StringType())\n",
    "    \n",
    "    text_words = \\\n",
    "        (text_df.withColumnRenamed('value', 'word')\n",
    "                .where(~F.col('word').isin(stopwords)))"
   ]
  },
  {
   "cell_type": "code",
   "execution_count": 49,
   "metadata": {
    "slideshow": {
     "slide_type": "subslide"
    }
   },
   "outputs": [],
   "source": [
    "schema = StructType([StructField('word', StringType(),False)])\n",
    "empty = spark.createDataFrame(spark.sparkContext.emptyRDD(), schema)\n",
    "final_df = empty\n",
    "\n",
    "for file in files_list:\n",
    "    text_rdd = spark.sparkContext.textFile('./text_files/'+file)\n",
    "    formated_text_rdd = text_rdd.flatMap(format_text_rdd)\n",
    "    text_df = spark.createDataFrame(formated_text_rdd, StringType())\n",
    "    \n",
    "    text_words = \\\n",
    "        (text_df.withColumnRenamed('value', 'word')\n",
    "                .where(~F.col('word').isin(stopwords)))\n",
    "    \n",
    "    column_name = re.split('[.]', file)[0]\n",
    "    #'Dwarf_planet.txt'\n",
    "    \n",
    "    text_word_count = \\\n",
    "        (text_words\n",
    "         .groupBy('word')\n",
    "         .agg(F.count('word').alias('{}'.format(column_name))))\n",
    "    \n",
    "    final_df = final_df.join(text_word_count, 'word', 'outer')\n",
    "    \n",
    "final_df.repartition(10).write.parquet(\"./Output/\")"
   ]
  },
  {
   "cell_type": "markdown",
   "metadata": {
    "slideshow": {
     "slide_type": "slide"
    }
   },
   "source": [
    "# 4. Przygotowanie zestawów danych do wizualizacji."
   ]
  },
  {
   "cell_type": "code",
   "execution_count": 51,
   "metadata": {
    "slideshow": {
     "slide_type": "slide"
    }
   },
   "outputs": [],
   "source": [
    "input_data = sqlContext.read.parquet('./Output/')"
   ]
  },
  {
   "cell_type": "code",
   "execution_count": 97,
   "metadata": {
    "slideshow": {
     "slide_type": "fragment"
    }
   },
   "outputs": [
    {
     "name": "stdout",
     "output_type": "stream",
     "text": [
      "+---------+------------+--------------------+------------+--------------------+------+--------------+-----+-------------+\n",
      "|     word|Dwarf_planet|Dwarf_planet_archive|New_Horizons|New_Horizons_archive|Planet|Planet_archive|Pluto|Pluto_archive|\n",
      "+---------+------------+--------------------+------------+--------------------+------+--------------+-----+-------------+\n",
      "|  adapter|           0|                   0|           2|                   2|     0|             0|    0|            0|\n",
      "|   angles|           0|                   0|           1|                   1|     0|             0|    0|            0|\n",
      "|   barely|           0|                   0|           0|                   0|     1|             1|    0|            0|\n",
      "|     came|           0|                   0|           1|                   1|     1|             1|    2|            3|\n",
      "|desirable|           0|                   0|           1|                   1|     0|             0|    1|            1|\n",
      "|  deviate|           0|                   1|           0|                   0|     0|             0|    0|            0|\n",
      "|evolution|           1|                   0|           0|                   0|     0|             0|    0|            0|\n",
      "+---------+------------+--------------------+------------+--------------------+------+--------------+-----+-------------+\n",
      "only showing top 7 rows\n",
      "\n"
     ]
    }
   ],
   "source": [
    "input_data.fillna(0).show(7)"
   ]
  },
  {
   "cell_type": "code",
   "execution_count": 98,
   "metadata": {
    "slideshow": {
     "slide_type": "subslide"
    }
   },
   "outputs": [
    {
     "data": {
      "text/html": [
       "<div>\n",
       "<style scoped>\n",
       "    .dataframe tbody tr th:only-of-type {\n",
       "        vertical-align: middle;\n",
       "    }\n",
       "\n",
       "    .dataframe tbody tr th {\n",
       "        vertical-align: top;\n",
       "    }\n",
       "\n",
       "    .dataframe thead th {\n",
       "        text-align: right;\n",
       "    }\n",
       "</style>\n",
       "<table border=\"1\" class=\"dataframe\">\n",
       "  <thead>\n",
       "    <tr style=\"text-align: right;\">\n",
       "      <th></th>\n",
       "      <th>word</th>\n",
       "      <th>Dwarf_planet</th>\n",
       "      <th>Dwarf_planet_archive</th>\n",
       "      <th>New_Horizons</th>\n",
       "      <th>New_Horizons_archive</th>\n",
       "      <th>Planet</th>\n",
       "      <th>Planet_archive</th>\n",
       "      <th>Pluto</th>\n",
       "      <th>Pluto_archive</th>\n",
       "    </tr>\n",
       "  </thead>\n",
       "  <tbody>\n",
       "    <tr>\n",
       "      <th>0</th>\n",
       "      <td>adapter</td>\n",
       "      <td>0</td>\n",
       "      <td>0</td>\n",
       "      <td>2</td>\n",
       "      <td>2</td>\n",
       "      <td>0</td>\n",
       "      <td>0</td>\n",
       "      <td>0</td>\n",
       "      <td>0</td>\n",
       "    </tr>\n",
       "    <tr>\n",
       "      <th>1</th>\n",
       "      <td>angles</td>\n",
       "      <td>0</td>\n",
       "      <td>0</td>\n",
       "      <td>1</td>\n",
       "      <td>1</td>\n",
       "      <td>0</td>\n",
       "      <td>0</td>\n",
       "      <td>0</td>\n",
       "      <td>0</td>\n",
       "    </tr>\n",
       "    <tr>\n",
       "      <th>2</th>\n",
       "      <td>barely</td>\n",
       "      <td>0</td>\n",
       "      <td>0</td>\n",
       "      <td>0</td>\n",
       "      <td>0</td>\n",
       "      <td>1</td>\n",
       "      <td>1</td>\n",
       "      <td>0</td>\n",
       "      <td>0</td>\n",
       "    </tr>\n",
       "    <tr>\n",
       "      <th>3</th>\n",
       "      <td>came</td>\n",
       "      <td>0</td>\n",
       "      <td>0</td>\n",
       "      <td>1</td>\n",
       "      <td>1</td>\n",
       "      <td>1</td>\n",
       "      <td>1</td>\n",
       "      <td>2</td>\n",
       "      <td>3</td>\n",
       "    </tr>\n",
       "    <tr>\n",
       "      <th>4</th>\n",
       "      <td>desirable</td>\n",
       "      <td>0</td>\n",
       "      <td>0</td>\n",
       "      <td>1</td>\n",
       "      <td>1</td>\n",
       "      <td>0</td>\n",
       "      <td>0</td>\n",
       "      <td>1</td>\n",
       "      <td>1</td>\n",
       "    </tr>\n",
       "    <tr>\n",
       "      <th>5</th>\n",
       "      <td>deviate</td>\n",
       "      <td>0</td>\n",
       "      <td>1</td>\n",
       "      <td>0</td>\n",
       "      <td>0</td>\n",
       "      <td>0</td>\n",
       "      <td>0</td>\n",
       "      <td>0</td>\n",
       "      <td>0</td>\n",
       "    </tr>\n",
       "    <tr>\n",
       "      <th>6</th>\n",
       "      <td>evolution</td>\n",
       "      <td>1</td>\n",
       "      <td>0</td>\n",
       "      <td>0</td>\n",
       "      <td>0</td>\n",
       "      <td>0</td>\n",
       "      <td>0</td>\n",
       "      <td>0</td>\n",
       "      <td>0</td>\n",
       "    </tr>\n",
       "  </tbody>\n",
       "</table>\n",
       "</div>"
      ],
      "text/plain": [
       "        word  Dwarf_planet  Dwarf_planet_archive  New_Horizons  \\\n",
       "0    adapter             0                     0             2   \n",
       "1     angles             0                     0             1   \n",
       "2     barely             0                     0             0   \n",
       "3       came             0                     0             1   \n",
       "4  desirable             0                     0             1   \n",
       "5    deviate             0                     1             0   \n",
       "6  evolution             1                     0             0   \n",
       "\n",
       "   New_Horizons_archive  Planet  Planet_archive  Pluto  Pluto_archive  \n",
       "0                     2       0               0      0              0  \n",
       "1                     1       0               0      0              0  \n",
       "2                     0       1               1      0              0  \n",
       "3                     1       1               1      2              3  \n",
       "4                     1       0               0      1              1  \n",
       "5                     0       0               0      0              0  \n",
       "6                     0       0               0      0              0  "
      ]
     },
     "execution_count": 98,
     "metadata": {},
     "output_type": "execute_result"
    }
   ],
   "source": [
    "input_data.fillna(0).limit(7).toPandas()"
   ]
  },
  {
   "cell_type": "markdown",
   "metadata": {
    "slideshow": {
     "slide_type": "slide"
    }
   },
   "source": [
    "## Co możemy sprawdzić?\n",
    "Zmianę częstości wystąpień różnych słów (np. Pluton, planet, surface) w artykułach z Wikipedii.\n",
    "\n",
    "\n",
    "<img src=\"https://i.imgflip.com/2p9kj1.jpg\" style=\"float: center;width:600px\"/>"
   ]
  },
  {
   "cell_type": "markdown",
   "metadata": {
    "slideshow": {
     "slide_type": "slide"
    }
   },
   "source": [
    "<img src=\"https://monosnap.com/image/cgriJaXZK9UUsbdjfm10UZR1P2nNS3.png\" style=\"float: center;\"/>"
   ]
  },
  {
   "cell_type": "markdown",
   "metadata": {
    "slideshow": {
     "slide_type": "slide"
    }
   },
   "source": [
    "- Wybieramy sumę każdego ze słów dla zbioru historycznego i bieżącego z użuyciem `.withColumn()`."
   ]
  },
  {
   "cell_type": "code",
   "execution_count": 91,
   "metadata": {
    "slideshow": {
     "slide_type": "fragment"
    }
   },
   "outputs": [],
   "source": [
    "data_current = input_data\\\n",
    "    .fillna(0)\\\n",
    "    .withColumn('current_word_sum', F.col('New_Horizons')+\n",
    "                                    F.col('Dwarf_planet')+\n",
    "                                    F.col('Planet')+\n",
    "                                    F.col('Pluto'))\\\n",
    "    .withColumn('archive_word_sum', F.col('New_Horizons_archive')+\n",
    "                                    F.col('Dwarf_planet_archive')+\n",
    "                                    F.col('Planet_archive')+\n",
    "                                    F.col('Pluto_archive'))\\\n",
    "    .select('word', 'current_word_sum', 'archive_word_sum')\n"
   ]
  },
  {
   "cell_type": "code",
   "execution_count": 92,
   "metadata": {
    "slideshow": {
     "slide_type": "fragment"
    }
   },
   "outputs": [
    {
     "name": "stdout",
     "output_type": "stream",
     "text": [
      "+---------+----------------+----------------+\n",
      "|     word|current_word_sum|archive_word_sum|\n",
      "+---------+----------------+----------------+\n",
      "|  adapter|               2|               2|\n",
      "|   angles|               1|               1|\n",
      "|   barely|               1|               1|\n",
      "|     came|               4|               5|\n",
      "|desirable|               2|               2|\n",
      "+---------+----------------+----------------+\n",
      "only showing top 5 rows\n",
      "\n"
     ]
    }
   ],
   "source": [
    "data_current.show(5)"
   ]
  },
  {
   "cell_type": "markdown",
   "metadata": {
    "slideshow": {
     "slide_type": "slide"
    }
   },
   "source": [
    "- tworzymy kolumnę z różnicą słów."
   ]
  },
  {
   "cell_type": "code",
   "execution_count": 93,
   "metadata": {
    "slideshow": {
     "slide_type": "fragment"
    }
   },
   "outputs": [],
   "source": [
    "full_dataset = data_current\\\n",
    "    .withColumn ('word_diff', F.col('current_word_sum')-\n",
    "                              F.col('archive_word_sum'))"
   ]
  },
  {
   "cell_type": "code",
   "execution_count": 94,
   "metadata": {
    "slideshow": {
     "slide_type": "fragment"
    }
   },
   "outputs": [
    {
     "name": "stdout",
     "output_type": "stream",
     "text": [
      "+---------+----------------+----------------+---------+\n",
      "|     word|current_word_sum|archive_word_sum|word_diff|\n",
      "+---------+----------------+----------------+---------+\n",
      "|  adapter|               2|               2|        0|\n",
      "|   angles|               1|               1|        0|\n",
      "|   barely|               1|               1|        0|\n",
      "|     came|               4|               5|       -1|\n",
      "|desirable|               2|               2|        0|\n",
      "+---------+----------------+----------------+---------+\n",
      "only showing top 5 rows\n",
      "\n"
     ]
    }
   ],
   "source": [
    "full_dataset.show(5)"
   ]
  },
  {
   "cell_type": "markdown",
   "metadata": {
    "slideshow": {
     "slide_type": "slide"
    }
   },
   "source": [
    "- Przygotowujemy dwa zbiory danych - do różnicy dodatniej i ujemnej słów."
   ]
  },
  {
   "cell_type": "code",
   "execution_count": 95,
   "metadata": {
    "slideshow": {
     "slide_type": "fragment"
    }
   },
   "outputs": [],
   "source": [
    "positive_diff_vis_dataset = full_dataset\\\n",
    "    .select('word', 'word_diff')\\\n",
    "    .orderBy('word_diff', ascending=False)\\\n",
    "    .limit(6)\\\n",
    "    .toPandas()\n",
    "\n",
    "negative_diff_vis_dataset = full_dataset\\\n",
    "    .select('word', 'word_diff')\\\n",
    "    .orderBy('word_diff', ascending=True)\\\n",
    "    .limit(6)\\\n",
    "    .withColumn('word_diff', F.abs(F.col('word_diff')))\\\n",
    "    .orderBy('word_diff', ascending=True)\\\n",
    "    .toPandas()"
   ]
  },
  {
   "cell_type": "code",
   "execution_count": 2,
   "metadata": {
    "collapsed": true
   },
   "outputs": [
    {
     "ename": "NameError",
     "evalue": "name 'positive_diff_vis_dataset' is not defined",
     "output_type": "error",
     "traceback": [
      "\u001b[0;31m---------------------------------------------------------------------------\u001b[0m",
      "\u001b[0;31mNameError\u001b[0m                                 Traceback (most recent call last)",
      "\u001b[0;32m<ipython-input-2-41ee36f7b5e8>\u001b[0m in \u001b[0;36m<module>\u001b[0;34m\u001b[0m\n\u001b[0;32m----> 1\u001b[0;31m \u001b[0mpositive_diff_vis_dataset\u001b[0m\u001b[0;34m\u001b[0m\u001b[0m\n\u001b[0m",
      "\u001b[0;31mNameError\u001b[0m: name 'positive_diff_vis_dataset' is not defined"
     ]
    }
   ],
   "source": [
    "positive_diff_vis_dataset"
   ]
  },
  {
   "cell_type": "markdown",
   "metadata": {},
   "source": [
    "# 5. Wizualizacja wyniku."
   ]
  },
  {
   "cell_type": "code",
   "execution_count": 62,
   "metadata": {
    "slideshow": {
     "slide_type": "skip"
    }
   },
   "outputs": [],
   "source": [
    "import pandas as pd\n",
    "import matplotlib.pyplot as plt\n",
    "import seaborn as sns"
   ]
  },
  {
   "cell_type": "code",
   "execution_count": 103,
   "metadata": {
    "slideshow": {
     "slide_type": "slide"
    }
   },
   "outputs": [
    {
     "data": {
      "image/png": "[encoded data removed]",
      "text/plain": [
       "<Figure size 1728x792 with 2 Axes>"
      ]
     },
     "metadata": {},
     "output_type": "display_data"
    }
   ],
   "source": [
    "f, (ax1, ax2) = plt.subplots(1, 2, figsize=(24, 11), sharey=False)\n",
    "sns.set(style=\"whitegrid\", font_scale=2)\n",
    "sns.despine(left=True, bottom=True, right=True)\n",
    "sns.barplot(x=\"word\", y=\"word_diff\", data=plus_diff_vis_dataset, palette=sns.light_palette(\"navy\", reverse=True, n_colors=6), ax=ax1)\n",
    "ax1.set_xticklabels(ax1.get_xticklabels(), fontsize=25)\n",
    "ax1.set(ylabel=None, xlabel=None)\n",
    "ax1.set_title('Positive difference in word occurence', fontsize=25)\n",
    "sns.barplot(x=\"word\", y=\"word_diff\", data=minus_diff_vis_dataset, palette=sns.light_palette(\"navy\", reverse=False, n_colors=6), ax=ax2)\n",
    "ax2.set(ylabel=None, xlabel=None)\n",
    "ax2.set_xticklabels(ax2.get_xticklabels(), fontsize=25)\n",
    "ax2.set_title('Negative difference in word occurence', fontsize=25)\n",
    "plt.ylim(0, 41)\n",
    "plt.tight_layout(h_pad=1);"
   ]
  },
  {
   "cell_type": "markdown",
   "metadata": {
    "slideshow": {
     "slide_type": "slide"
    }
   },
   "source": [
    "<table><tr>\n",
    "<td> <img src=\"https://upload.wikimedia.org/wikipedia/commons/thumb/b/bd/PIA18179_d-Pluto270-Hubble2003-20100204.jpg/600px-PIA18179_d-Pluto270-Hubble2003-20100204.jpg\" alt=\"Drawing\" style=\"width: 800px;\"/> </td>\n",
    "<td> <img src=\"https://upload.wikimedia.org/wikipedia/commons/5/51/NH-Pluto-color-NewHorizons-20150713.png\" alt=\"Drawing\" style=\"width: 800px;\"/> </td>\n",
    "</tr></table>"
   ]
  },
  {
   "cell_type": "markdown",
   "metadata": {
    "slideshow": {
     "slide_type": "slide"
    }
   },
   "source": [
    "<img src=\"https://thumbs.gfycat.com/WearyWillingEyra-size_restricted.gif\" style=\"float: centered;\"/>"
   ]
  }
 ],
 "metadata": {
  "celltoolbar": "Slideshow",
  "kernelspec": {
   "display_name": "Python 3",
   "language": "python",
   "name": "python3"
  },
  "language_info": {
   "codemirror_mode": {
    "name": "ipython",
    "version": 3
   },
   "file_extension": ".py",
   "mimetype": "text/x-python",
   "name": "python",
   "nbconvert_exporter": "python",
   "pygments_lexer": "ipython3",
   "version": "3.6.6"
  }
 },
 "nbformat": 4,
 "nbformat_minor": 2
}
